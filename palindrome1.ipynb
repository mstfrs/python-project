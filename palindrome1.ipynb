{
 "cells": [
  {
   "cell_type": "code",
   "execution_count": null,
   "id": "f397d672",
   "metadata": {},
   "outputs": [],
   "source": [
    "def palindrome():\n",
    "    cumle=input(\"Bir cümle yazınız:\").lower()\n",
    "    list1=[]\n",
    "    list2=[]\n",
    "    for i in cumle:\n",
    "        if i.isalnum():\n",
    "            list1.append(i)\n",
    "    for x in range(1,len(list1)+1):\n",
    "        list2.append(list1[-x])\n",
    "    if list1==list2:\n",
    "        print(cumle , \"is a palindrome\")\n",
    "    else:\n",
    "        print(cumle , \"is NOT a palindrome\")\n",
    "    \n",
    "palindrome()"
   ]
  }
 ],
 "metadata": {
  "kernelspec": {
   "display_name": "Python 3",
   "language": "python",
   "name": "python3"
  },
  "language_info": {
   "codemirror_mode": {
    "name": "ipython",
    "version": 3
   },
   "file_extension": ".py",
   "mimetype": "text/x-python",
   "name": "python",
   "nbconvert_exporter": "python",
   "pygments_lexer": "ipython3",
   "version": "3.8.8"
  }
 },
 "nbformat": 4,
 "nbformat_minor": 5
}
