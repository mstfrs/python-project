{
 "cells": [
  {
   "cell_type": "code",
   "execution_count": null,
   "id": "58301190",
   "metadata": {},
   "outputs": [],
   "source": [
    "def palindrome2():\n",
    "    cumle=input(\"Bir cümle yazınız:\").lower()\n",
    "    listc = list(cumle)\n",
    "    s = 0\n",
    "    for i in range(len(listc)):\n",
    "        if not listc[s].isalpha():\n",
    "            listc.pop(s)\n",
    "            s-=1\n",
    "        s+=1\n",
    "    y = ''.join(listc)\n",
    "    if y == y[::-1]:\n",
    "        print(cumle, \"is a palindrome\")\n",
    "    else:\n",
    "        print(cumle, \"is NOT a palindrome\")\n",
    "\n",
    "palindrome2()"
   ]
  }
 ],
 "metadata": {
  "kernelspec": {
   "display_name": "Python 3",
   "language": "python",
   "name": "python3"
  },
  "language_info": {
   "codemirror_mode": {
    "name": "ipython",
    "version": 3
   },
   "file_extension": ".py",
   "mimetype": "text/x-python",
   "name": "python",
   "nbconvert_exporter": "python",
   "pygments_lexer": "ipython3",
   "version": "3.8.8"
  }
 },
 "nbformat": 4,
 "nbformat_minor": 5
}
