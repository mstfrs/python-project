{
 "cells": [
  {
   "cell_type": "code",
   "execution_count": 2,
   "id": "6508e808-3d14-4849-b981-72a8f793904c",
   "metadata": {},
   "outputs": [
    {
     "name": "stdin",
     "output_type": "stream",
     "text": [
      "Bir sayı giriniz: 371\n"
     ]
    },
    {
     "name": "stdout",
     "output_type": "stream",
     "text": [
      "Girmiş olduğunuz  371 sayısı bir Armstrong sayıdır.\n"
     ]
    }
   ],
   "source": [
    "number = input(\"Bir sayı giriniz:\")\n",
    "kuvvet = len(number)\n",
    "i = 0\n",
    "toplam=0\n",
    "if number.isdecimal():\n",
    "    if i<kuvvet:\n",
    "        for rakam in number:\n",
    "            i+=1\n",
    "            toplam = int(rakam)**kuvvet + toplam\n",
    "        if toplam == int(number):\n",
    "             print(\"Girmiş olduğunuz \", number, \"sayısı bir Armstrong sayıdır.\")\n",
    "        else:\n",
    "             print(\"Girmiş olduğunuz \", number, \"sayısı bir Armstrong sayı değildir.\")\n",
    "else:\n",
    "    print(\"Lütfen bir tamsayı giriniz!\")"
   ]
  },
  {
   "cell_type": "code",
   "execution_count": null,
   "id": "48262d42-c9a2-471a-8083-9fc17cf4e864",
   "metadata": {},
   "outputs": [],
   "source": []
  }
 ],
 "metadata": {
  "kernelspec": {
   "display_name": "Python 3",
   "language": "python",
   "name": "python3"
  },
  "language_info": {
   "codemirror_mode": {
    "name": "ipython",
    "version": 3
   },
   "file_extension": ".py",
   "mimetype": "text/x-python",
   "name": "python",
   "nbconvert_exporter": "python",
   "pygments_lexer": "ipython3",
   "version": "3.8.8"
  }
 },
 "nbformat": 4,
 "nbformat_minor": 5
}
