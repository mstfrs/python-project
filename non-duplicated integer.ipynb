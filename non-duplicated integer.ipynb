{
 "cells": [
  {
   "cell_type": "code",
   "execution_count": 6,
   "id": "e29f4de4",
   "metadata": {},
   "outputs": [
    {
     "name": "stdout",
     "output_type": "stream",
     "text": [
      "1\n",
      "19\n"
     ]
    }
   ],
   "source": [
    "def nondplc(x):\n",
    "    for i in x:\n",
    "        say= x.count(i)\n",
    "        if say == 1:\n",
    "            print(i)\n",
    "            \n",
    "nondplc([6, 1, 3, 3, 3, 6, 6])\n",
    "nondplc([13, 19, 13, 13])\n"
   ]
  },
  {
   "cell_type": "code",
   "execution_count": null,
   "id": "23e10e1b",
   "metadata": {},
   "outputs": [],
   "source": []
  }
 ],
 "metadata": {
  "kernelspec": {
   "display_name": "Python 3",
   "language": "python",
   "name": "python3"
  },
  "language_info": {
   "codemirror_mode": {
    "name": "ipython",
    "version": 3
   },
   "file_extension": ".py",
   "mimetype": "text/x-python",
   "name": "python",
   "nbconvert_exporter": "python",
   "pygments_lexer": "ipython3",
   "version": "3.8.8"
  }
 },
 "nbformat": 4,
 "nbformat_minor": 5
}
