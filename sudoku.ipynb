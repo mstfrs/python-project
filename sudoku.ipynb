{
 "cells": [
  {
   "cell_type": "code",
   "execution_count": null,
   "id": "4ad920c1",
   "metadata": {},
   "outputs": [],
   "source": [
    "sudoku = [\n",
    "    [0, 0, 0, 0, 6, 4, 0, 0, 0],\n",
    "    [7, 0, 0, 0, 0, 0, 3, 9, 0],\n",
    "    [8, 0, 0, 0, 0, 0, 0, 0, 0],\n",
    "    [0, 0, 0, 5, 0, 2, 0, 6, 0],\n",
    "    [0, 8, 0, 4, 0, 0, 0, 0, 0],\n",
    "    [3, 5, 0, 6, 0, 0, 0, 7, 0],\n",
    "    [0, 0, 2, 0, 0, 0, 1, 0, 3],\n",
    "    [0, 0, 1, 0, 5, 9, 0, 0, 0],\n",
    "    [0, 0, 0, 0, 0, 0, 7, 0, 0]\n",
    "]\n",
    "\n",
    "list1=[]\n",
    "list2=[]\n",
    "sayac1=0\n",
    "sayac2=0\n",
    "for x in range(9):\n",
    "    for i in range(9):\n",
    "        list1.append(sudoku[x][i])\n",
    "        if len(list1)==3:\n",
    "            list2.append(list1)\n",
    "            list1=[]\n",
    "for son in range(len(list2)):\n",
    "    print(* list2[son], end=\" | \")\n",
    "    sayac1 +=1\n",
    "    sayac2 +=1\n",
    "    if sayac1==3:\n",
    "        print(\"\")\n",
    "        sayac1=0\n",
    "    if sayac2==9:\n",
    "        print(\"-----------------------\")\n",
    "        sayac2=0\n"
   ]
  }
 ],
 "metadata": {
  "kernelspec": {
   "display_name": "Python 3",
   "language": "python",
   "name": "python3"
  },
  "language_info": {
   "codemirror_mode": {
    "name": "ipython",
    "version": 3
   },
   "file_extension": ".py",
   "mimetype": "text/x-python",
   "name": "python",
   "nbconvert_exporter": "python",
   "pygments_lexer": "ipython3",
   "version": "3.8.8"
  }
 },
 "nbformat": 4,
 "nbformat_minor": 5
}
