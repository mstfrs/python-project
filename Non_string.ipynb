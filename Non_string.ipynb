{
 "cells": [
  {
   "cell_type": "code",
   "execution_count": null,
   "id": "a94bff65-941d-4d49-9a0c-f313784f15a5",
   "metadata": {},
   "outputs": [],
   "source": [
    "def not_string(word):\n",
    "    if \"not\" in word:\n",
    "        print(word)\n",
    "    else:\n",
    "        print (\"not \" + word)\n",
    "        \n",
    "not_string(\"mustafa\")"
   ]
  }
 ],
 "metadata": {
  "kernelspec": {
   "display_name": "Python 3",
   "language": "python",
   "name": "python3"
  },
  "language_info": {
   "codemirror_mode": {
    "name": "ipython",
    "version": 3
   },
   "file_extension": ".py",
   "mimetype": "text/x-python",
   "name": "python",
   "nbconvert_exporter": "python",
   "pygments_lexer": "ipython3",
   "version": "3.8.8"
  }
 },
 "nbformat": 4,
 "nbformat_minor": 5
}
