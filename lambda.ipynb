{
 "cells": [
  {
   "cell_type": "code",
   "execution_count": 1,
   "id": "a5425bcd",
   "metadata": {},
   "outputs": [
    {
     "data": {
      "text/plain": [
       "20"
      ]
     },
     "execution_count": 1,
     "metadata": {},
     "output_type": "execute_result"
    }
   ],
   "source": [
    "largest = lambda a,b : a if a>b else b\n",
    "\n",
    "largest(10,20)"
   ]
  },
  {
   "cell_type": "code",
   "execution_count": 2,
   "id": "432d9f05",
   "metadata": {},
   "outputs": [
    {
     "data": {
      "text/plain": [
       "9"
      ]
     },
     "execution_count": 2,
     "metadata": {},
     "output_type": "execute_result"
    }
   ],
   "source": [
    "multp = lambda a : a*3\n",
    "multp(3)"
   ]
  },
  {
   "cell_type": "code",
   "execution_count": 11,
   "id": "87a95a7f",
   "metadata": {},
   "outputs": [
    {
     "name": "stdout",
     "output_type": "stream",
     "text": [
      "[1, 4, 9, 16, 25, 36, 49, 64, 81, 100]\n",
      "[1, 8, 27, 64, 125, 216, 343, 512, 729, 1000]\n"
     ]
    }
   ],
   "source": [
    "list1 = [1,2,3,4,5,6,7,8,9,10]\n",
    "sqr = map(lambda x: x ** 2, list1 )\n",
    "print(list(sqr))\n",
    "cube = map(lambda x: x ** 3, list1 )\n",
    "print(list(cube))"
   ]
  },
  {
   "cell_type": "code",
   "execution_count": 18,
   "id": "c3f7f4a2",
   "metadata": {},
   "outputs": [
    {
     "data": {
      "text/plain": [
       "True"
      ]
     },
     "execution_count": 18,
     "metadata": {},
     "output_type": "execute_result"
    }
   ],
   "source": [
    "st = \"Mustafa\"\n",
    "startwith = lambda x : True if x.startswith(\"s\") else False\n",
    "startwith(\"somon\")"
   ]
  },
  {
   "cell_type": "code",
   "execution_count": 22,
   "id": "7c3b5fc7",
   "metadata": {
    "scrolled": true
   },
   "outputs": [
    {
     "name": "stdout",
     "output_type": "stream",
     "text": [
      "pazartesi\n",
      "\n",
      "Çarşamba\n"
     ]
    }
   ],
   "source": [
    "lst1=[\"pazartesi\", \"salı\", \"Çarşamba\"]\n",
    "length = list(map(lambda x : x if len(x)>6 else \"\", lst1))\n",
    "for y in length:\n",
    "    print(y)"
   ]
  },
  {
   "cell_type": "code",
   "execution_count": 24,
   "id": "98bfb77b",
   "metadata": {
    "collapsed": true
   },
   "outputs": [
    {
     "ename": "SyntaxError",
     "evalue": "invalid syntax (<ipython-input-24-5ca5250250f2>, line 1)",
     "output_type": "error",
     "traceback": [
      "\u001b[1;36m  File \u001b[1;32m\"<ipython-input-24-5ca5250250f2>\"\u001b[1;36m, line \u001b[1;32m1\u001b[0m\n\u001b[1;33m    LAMBDA WITHIN USER-DEFINED FUNCTION\u001b[0m\n\u001b[1;37m           ^\u001b[0m\n\u001b[1;31mSyntaxError\u001b[0m\u001b[1;31m:\u001b[0m invalid syntax\n"
     ]
    }
   ],
   "source": [
    "LAMBDA WITHIN USER-DEFINED FUNCTION"
   ]
  },
  {
   "cell_type": "code",
   "execution_count": 28,
   "id": "022886e1",
   "metadata": {},
   "outputs": [
    {
     "name": "stdout",
     "output_type": "stream",
     "text": [
      "4\n"
     ]
    }
   ],
   "source": [
    "def modular_func(n):\n",
    "    return lambda x: x**n\n",
    "\n",
    "power_of_2 = modular_func(2)\n",
    "\n",
    "print(power_of_2(2))\n"
   ]
  },
  {
   "cell_type": "code",
   "execution_count": 32,
   "id": "6a7528c3",
   "metadata": {},
   "outputs": [
    {
     "data": {
      "text/plain": [
       "'mustafamustafamustafamustafamustafa'"
      ]
     },
     "execution_count": 32,
     "metadata": {},
     "output_type": "execute_result"
    }
   ],
   "source": [
    "def repeater(n):\n",
    "    return lambda x : x *n\n",
    "repeater(3)(\"mustafa\")"
   ]
  },
  {
   "cell_type": "code",
   "execution_count": 49,
   "id": "de229656",
   "metadata": {},
   "outputs": [
    {
     "name": "stdout",
     "output_type": "stream",
     "text": [
      "<function functioner.<locals>.<lambda> at 0x000001B94F39C8B0>\n"
     ]
    }
   ],
   "source": [
    "def functioner(s):\n",
    "    return lambda x : x + \":)\" \n",
    "\n",
    "myprint_smile=functioner(\"hello\") \n",
    "print(myprint_smile)\n",
    "#myprint_sads(\"hello\")\n",
    "#myprint_neutral(\"hello\")\n",
    "        "
   ]
  },
  {
   "cell_type": "code",
   "execution_count": 50,
   "id": "ebf19e0b",
   "metadata": {},
   "outputs": [
    {
     "data": {
      "text/plain": [
       "4"
      ]
     },
     "execution_count": 50,
     "metadata": {},
     "output_type": "execute_result"
    }
   ],
   "source": [
    "num = [1,4,4]\n",
    "max(num, key = num.count)"
   ]
  },
  {
   "cell_type": "code",
   "execution_count": 3,
   "id": "2d4409b0",
   "metadata": {},
   "outputs": [
    {
     "name": "stdout",
     "output_type": "stream",
     "text": [
      "4\n"
     ]
    }
   ],
   "source": [
    "nums = [1,4,4]\n",
    "def repet(z):\n",
    "    print(max(z, key = z.count))\n",
    "    \n",
    "repet(nums)"
   ]
  },
  {
   "cell_type": "code",
   "execution_count": 8,
   "id": "1e381fd2",
   "metadata": {},
   "outputs": [
    {
     "data": {
      "text/plain": [
       "0"
      ]
     },
     "execution_count": 8,
     "metadata": {},
     "output_type": "execute_result"
    }
   ],
   "source": [
    "equallambda = lambda x,y,z : [x,y,z].count(max([x,y,z], key = [x,y,z].count)) \\\n",
    "if [x,y,z].count(max([x,y,z], key = [x,y,z].count)) >1 else 0\n",
    "equallambda(1,2,3)"
   ]
  },
  {
   "cell_type": "code",
   "execution_count": 13,
   "id": "4115bd4c",
   "metadata": {},
   "outputs": [
    {
     "data": {
      "text/plain": [
       "3"
      ]
     },
     "execution_count": 13,
     "metadata": {},
     "output_type": "execute_result"
    }
   ],
   "source": [
    "equallambdaa = lambda * arg : list(arg).count(max(list(arg), key = list(arg).count)) \\\n",
    "if list(arg).count(max(list(arg), key = list(arg).count)) >1 else 0\n",
    "equallambdaa(1,2,3,4,5,5,5)"
   ]
  },
  {
   "cell_type": "code",
   "execution_count": 20,
   "id": "4b3a6c65",
   "metadata": {},
   "outputs": [
    {
     "name": "stdout",
     "output_type": "stream",
     "text": [
      "istediğini yazdır\n"
     ]
    },
    {
     "data": {
      "text/plain": [
       "5"
      ]
     },
     "execution_count": 20,
     "metadata": {},
     "output_type": "execute_result"
    }
   ],
   "source": [
    "def function_generator(function):\n",
    "    return lambda x: function(x)\n",
    "\n",
    "myprint = function_generator(print)\n",
    "myprint(\"istediğini yazdır\")\n",
    "mybool = function_generator(bool)\n",
    "mybool(\"\")\n",
    "mymax = function_generator(max)\n",
    "mymax([1,2,3,4,4,4,5])"
   ]
  },
  {
   "cell_type": "code",
   "execution_count": 21,
   "id": "ca29d8f7",
   "metadata": {},
   "outputs": [
    {
     "data": {
      "text/plain": [
       "False"
      ]
     },
     "execution_count": 21,
     "metadata": {},
     "output_type": "execute_result"
    }
   ],
   "source": [
    "mybool = function_generator(bool)\n",
    "mybool(\"\")"
   ]
  },
  {
   "cell_type": "code",
   "execution_count": 34,
   "id": "4a7c2ee1",
   "metadata": {},
   "outputs": [
    {
     "name": "stdout",
     "output_type": "stream",
     "text": [
      "3.141592653589793\n",
      "24\n",
      "3.0\n"
     ]
    }
   ],
   "source": [
    "from math import pi, factorial, log10\n",
    "\n",
    "print(pi)\n",
    "print(factorial(4))\n",
    "print(log10(1000))"
   ]
  },
  {
   "cell_type": "code",
   "execution_count": 37,
   "id": "c319623e",
   "metadata": {},
   "outputs": [
    {
     "name": "stdout",
     "output_type": "stream",
     "text": [
      "['Formatter', 'Template', '_ChainMap', '_TemplateMetaclass', '__all__', '__builtins__', '__cached__', '__doc__', '__file__', '__loader__', '__name__', '__package__', '__spec__', '_re', '_sentinel_dict', '_string', 'ascii_letters', 'ascii_lowercase', 'ascii_uppercase', 'capwords', 'digits', 'hexdigits', 'octdigits', 'printable', 'punctuation', 'whitespace']\n"
     ]
    }
   ],
   "source": [
    "import string\n",
    "from string import punctuation, digits\n",
    "print(dir(string))"
   ]
  },
  {
   "cell_type": "code",
   "execution_count": 47,
   "id": "5c8f3ea6",
   "metadata": {},
   "outputs": [
    {
     "name": "stdout",
     "output_type": "stream",
     "text": [
      "2021-08-18\n"
     ]
    }
   ],
   "source": [
    "\n",
    "import datetime\n",
    "print(datetime.date.today())\n"
   ]
  },
  {
   "cell_type": "code",
   "execution_count": 51,
   "id": "77cb550b",
   "metadata": {},
   "outputs": [
    {
     "name": "stdout",
     "output_type": "stream",
     "text": [
      "2021-08-18 22:55:27.273673\n"
     ]
    }
   ],
   "source": [
    "print(datetime.datetime.now())"
   ]
  },
  {
   "cell_type": "code",
   "execution_count": 57,
   "id": "02294bc9",
   "metadata": {},
   "outputs": [
    {
     "name": "stdout",
     "output_type": "stream",
     "text": [
      "22327\n",
      "22327 days, 0:00:00\n"
     ]
    }
   ],
   "source": [
    "from datetime import date\n",
    "birth = date(571, 4, 22)\n",
    "birth\n",
    "death = date(632, 6, 8)\n",
    "print(date.toordinal(death)- date.toordinal(birth))\n",
    "print(death-birth)"
   ]
  },
  {
   "cell_type": "code",
   "execution_count": 59,
   "id": "04b3d183",
   "metadata": {},
   "outputs": [
    {
     "name": "stdout",
     "output_type": "stream",
     "text": [
      "12428\n",
      "12428 days, 0:00:00\n"
     ]
    }
   ],
   "source": [
    "birth = date(1987, 8, 9)\n",
    "today = date(2021, 8, 18)\n",
    "print(date.toordinal(today)- date.toordinal(birth))\n",
    "print(today-birth)"
   ]
  },
  {
   "cell_type": "code",
   "execution_count": null,
   "id": "6868aed2",
   "metadata": {},
   "outputs": [],
   "source": []
  }
 ],
 "metadata": {
  "kernelspec": {
   "display_name": "Python 3",
   "language": "python",
   "name": "python3"
  },
  "language_info": {
   "codemirror_mode": {
    "name": "ipython",
    "version": 3
   },
   "file_extension": ".py",
   "mimetype": "text/x-python",
   "name": "python",
   "nbconvert_exporter": "python",
   "pygments_lexer": "ipython3",
   "version": "3.8.8"
  }
 },
 "nbformat": 4,
 "nbformat_minor": 5
}
