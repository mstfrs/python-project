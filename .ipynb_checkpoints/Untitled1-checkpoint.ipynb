{
 "cells": [
  {
   "cell_type": "code",
   "execution_count": 1,
   "id": "fcf5e7e2",
   "metadata": {},
   "outputs": [
    {
     "name": "stdout",
     "output_type": "stream",
     "text": [
      "Second Number Pattern \n",
      "1 \n",
      "1 2 \n",
      "1 2 3 \n",
      "1 2 3 4 \n",
      "1 2 3 4 5 \n"
     ]
    }
   ],
   "source": [
    "print(\"Second Number Pattern \")\n",
    "lastNumber = 6\n",
    "for row in range(1, lastNumber):\n",
    "    for column in range(1, row + 1):\n",
    "        print(column, end=' ')\n",
    "    print(\"\")"
   ]
  },
  {
   "cell_type": "code",
   "execution_count": 5,
   "id": "016497d0",
   "metadata": {},
   "outputs": [
    {
     "name": "stdout",
     "output_type": "stream",
     "text": [
      "Bir Sayı Giriniz: 10\n",
      "10  sayısına kadara olan sayıların toplamı 55\n"
     ]
    }
   ],
   "source": [
    "x= int(input(\"Bir Sayı Giriniz: \"))\n",
    "sum1=0\n",
    "for i in range(x+1):\n",
    "    sum1= sum1+i\n",
    "print(x, \" sayısına kadara olan sayıların toplamı\", sum1)"
   ]
  },
  {
   "cell_type": "code",
   "execution_count": null,
   "id": "b8c8bad8",
   "metadata": {},
   "outputs": [],
   "source": [
    "x= int(input(\"Bir Sayı Giriniz: \"))\n",
    "sum1=0\n",
    "for i in range(1,11):\n",
    "    sum1= sum1+i\n",
    "print(x, \" sayısına kadara olan sayıların toplamı\", sum1)"
   ]
  }
 ],
 "metadata": {
  "kernelspec": {
   "display_name": "Python 3",
   "language": "python",
   "name": "python3"
  },
  "language_info": {
   "codemirror_mode": {
    "name": "ipython",
    "version": 3
   },
   "file_extension": ".py",
   "mimetype": "text/x-python",
   "name": "python",
   "nbconvert_exporter": "python",
   "pygments_lexer": "ipython3",
   "version": "3.8.8"
  }
 },
 "nbformat": 4,
 "nbformat_minor": 5
}
