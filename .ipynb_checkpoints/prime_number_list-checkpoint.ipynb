{
 "cells": [
  {
   "cell_type": "code",
   "execution_count": 9,
   "id": "fd5c5095",
   "metadata": {},
   "outputs": [
    {
     "name": "stdout",
     "output_type": "stream",
     "text": [
      "Bir sayı giriniz:100\n",
      "[2, 3, 5, 7, 11, 13, 17, 19, 23, 29, 31, 37, 41, 43, 47, 53, 59, 61, 67, 71, 73, 79, 83, 89, 97]\n"
     ]
    }
   ],
   "source": [
    "num1 = int(input(\"Bir sayı giriniz:\"))\n",
    "listprime = []\n",
    "for i in range(1,num1):\n",
    "    x= 2**i % i\n",
    "    if x==2 or i==2:\n",
    "        listprime.append(i) #print(\"Girdiğiniz -\",num1,\"- sayısı asaldır...\")\n",
    "print(listprime)"
   ]
  },
  {
   "cell_type": "code",
   "execution_count": null,
   "id": "8c1f4dc5",
   "metadata": {},
   "outputs": [],
   "source": []
  }
 ],
 "metadata": {
  "kernelspec": {
   "display_name": "Python 3",
   "language": "python",
   "name": "python3"
  },
  "language_info": {
   "codemirror_mode": {
    "name": "ipython",
    "version": 3
   },
   "file_extension": ".py",
   "mimetype": "text/x-python",
   "name": "python",
   "nbconvert_exporter": "python",
   "pygments_lexer": "ipython3",
   "version": "3.8.8"
  }
 },
 "nbformat": 4,
 "nbformat_minor": 5
}
