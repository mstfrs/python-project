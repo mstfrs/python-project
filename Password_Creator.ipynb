{
 "cells": [
  {
   "cell_type": "code",
   "execution_count": 1,
   "id": "2d7f9691",
   "metadata": {},
   "outputs": [
    {
     "data": {
      "text/plain": [
       "'D'"
      ]
     },
     "execution_count": 1,
     "metadata": {},
     "output_type": "execute_result"
    }
   ],
   "source": [
    "import random\n",
    "chr(68)"
   ]
  },
  {
   "cell_type": "code",
   "execution_count": 16,
   "id": "8fe120d2",
   "metadata": {},
   "outputs": [
    {
     "data": {
      "text/plain": [
       "78"
      ]
     },
     "execution_count": 16,
     "metadata": {},
     "output_type": "execute_result"
    }
   ],
   "source": [
    "random.randint(65,90)"
   ]
  },
  {
   "cell_type": "code",
   "execution_count": 17,
   "id": "d5fed413",
   "metadata": {},
   "outputs": [
    {
     "data": {
      "text/plain": [
       "'K'"
      ]
     },
     "execution_count": 17,
     "metadata": {},
     "output_type": "execute_result"
    }
   ],
   "source": [
    "chr(random.randint(65,90))"
   ]
  },
  {
   "cell_type": "code",
   "execution_count": 25,
   "id": "426afd29",
   "metadata": {},
   "outputs": [
    {
     "data": {
      "text/plain": [
       "'WSE'"
      ]
     },
     "execution_count": 25,
     "metadata": {},
     "output_type": "execute_result"
    }
   ],
   "source": [
    "uppers = [chr(random.randint(65,90)) for i in range(3)]\n",
    "uppers\n",
    "\"\".join(uppers)"
   ]
  },
  {
   "cell_type": "code",
   "execution_count": 22,
   "id": "48606028",
   "metadata": {},
   "outputs": [
    {
     "data": {
      "text/plain": [
       "'NXY'"
      ]
     },
     "execution_count": 22,
     "metadata": {},
     "output_type": "execute_result"
    }
   ],
   "source": [
    "\"\".join(uppers)"
   ]
  },
  {
   "cell_type": "code",
   "execution_count": 27,
   "id": "4005da25",
   "metadata": {},
   "outputs": [
    {
     "data": {
      "text/plain": [
       "'kje'"
      ]
     },
     "execution_count": 27,
     "metadata": {},
     "output_type": "execute_result"
    }
   ],
   "source": [
    "lowers = [chr(random.randint(97,122)) for i in range(3)]\n",
    "lowers\n",
    "\"\".join(lowers)"
   ]
  },
  {
   "cell_type": "code",
   "execution_count": 28,
   "id": "4566ba0d",
   "metadata": {},
   "outputs": [
    {
     "data": {
      "text/plain": [
       "'907'"
      ]
     },
     "execution_count": 28,
     "metadata": {},
     "output_type": "execute_result"
    }
   ],
   "source": [
    "numbers = [chr(random.randint(48,57)) for i in range(3)]\n",
    "numbers\n",
    "\"\".join(numbers)"
   ]
  },
  {
   "cell_type": "code",
   "execution_count": 31,
   "id": "6935b71e",
   "metadata": {},
   "outputs": [
    {
     "data": {
      "text/plain": [
       "'!?'"
      ]
     },
     "execution_count": 31,
     "metadata": {},
     "output_type": "execute_result"
    }
   ],
   "source": [
    "chars = [chr(random.randint(33,47))+ chr(random.randint(58,64))]\n",
    "chars\n",
    "\"\".join(chars)"
   ]
  },
  {
   "cell_type": "code",
   "execution_count": 37,
   "id": "2d3682ef",
   "metadata": {},
   "outputs": [
    {
     "data": {
      "text/plain": [
       "'WSEkje907!?'"
      ]
     },
     "execution_count": 37,
     "metadata": {},
     "output_type": "execute_result"
    }
   ],
   "source": [
    "password = \"\".join(uppers) + \"\".join(lowers)+ \"\".join(numbers)+\"\".join(chars)\n",
    "password"
   ]
  },
  {
   "cell_type": "code",
   "execution_count": 41,
   "id": "764dd79d",
   "metadata": {},
   "outputs": [
    {
     "data": {
      "text/plain": [
       "'W0?9ke7S!Ej'"
      ]
     },
     "execution_count": 41,
     "metadata": {},
     "output_type": "execute_result"
    }
   ],
   "source": [
    "def shuffleit(string):\n",
    "    templist= list(string)\n",
    "    random.shuffle(templist)\n",
    "    return \"\".join(templist)\n",
    "\n",
    "passw = shuffleit(password)\n",
    "passw"
   ]
  },
  {
   "cell_type": "code",
   "execution_count": null,
   "id": "3d89f258",
   "metadata": {},
   "outputs": [],
   "source": []
  }
 ],
 "metadata": {
  "kernelspec": {
   "display_name": "Python 3",
   "language": "python",
   "name": "python3"
  },
  "language_info": {
   "codemirror_mode": {
    "name": "ipython",
    "version": 3
   },
   "file_extension": ".py",
   "mimetype": "text/x-python",
   "name": "python",
   "nbconvert_exporter": "python",
   "pygments_lexer": "ipython3",
   "version": "3.8.8"
  }
 },
 "nbformat": 4,
 "nbformat_minor": 5
}
