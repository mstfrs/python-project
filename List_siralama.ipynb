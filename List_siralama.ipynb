{
 "cells": [
  {
   "cell_type": "code",
   "execution_count": null,
   "id": "a6bdd697-83ad-4f63-9624-594e0dbbc8b6",
   "metadata": {},
   "outputs": [],
   "source": [
    "a= \"is2 thi1s t4est 3a\"\n",
    "list1=a.split()\n",
    "list2=[]\n",
    "for i in range(len(list1)): \n",
    "    for t in range(len(list1)):\n",
    "        for x in list1[t]:      \n",
    "            if str(i+1) == x:\n",
    "                list2.append(list1[t])               \n",
    "print(list2)"
   ]
  }
 ],
 "metadata": {
  "kernelspec": {
   "display_name": "Python 3",
   "language": "python",
   "name": "python3"
  },
  "language_info": {
   "codemirror_mode": {
    "name": "ipython",
    "version": 3
   },
   "file_extension": ".py",
   "mimetype": "text/x-python",
   "name": "python",
   "nbconvert_exporter": "python",
   "pygments_lexer": "ipython3",
   "version": "3.8.8"
  }
 },
 "nbformat": 4,
 "nbformat_minor": 5
}
